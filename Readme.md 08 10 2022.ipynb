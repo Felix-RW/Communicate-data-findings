{
 "cells": [
  {
   "cell_type": "markdown",
   "id": "31999db8",
   "metadata": {},
   "source": [
    "# Prosper Loan Data Exploration\n",
    "\n",
    "## Dataset\n",
    "\n",
    "The dataset contains information on the peer-to-peer loans facilitated by the credit company Prosper. There are 113,937 loans with 81 variables. For the purpose of this survey, I have taken the following variables: Term, LoanStatus, BorrowerRate, ProsperRating (Alpha), ListingCategory (numeric), EmploymentStatus, DelinquenciesLast7Years, StatedMonthlyIncome, TotalProsperLoans, LoanOriginalAmount, LoanOriginationDate, Recommendations and Investors.\n",
    "\n",
    "\n",
    "## Summary of Findings\n",
    "\n",
    "The majority of the loans in the dataset are in fact outstanding loans. Defaulted loans are divided into several groups according to the length of the delay in payment. The other major part is completed loans, with defaulted loans representing a minority, but charged-off loans also represent a substantial amount.\n",
    "\n",
    "The bulk of the borrowers are employees and all other categories represent only a small part of the borrowers. In the small groups, full-time workers are the most numerous, followed by the self-employed, etc.\n",
    "\n",
    "With a limit of the mean and 3 times the standard deviations, the distribution of monthly income still has a noticeable right skew, but we can now see that the mode is about 5000.\n",
    "\n",
    "The most frequent rating amongst defaulted loans is actually D. And the most frequent rating amongst finished loans is also D and the second highest is A and so on in the Status and Prosper rating. Both of them Credit Start with Listing Category Graphs of the debt Consolidation have most frequency among all of them.\n",
    "\n",
    "Lower ratings seem to have greater proportions of individuals with employment status Not Employed, Self-employed, Retired and Part-Time.\n",
    "\n",
    "Except for the lowest ratings defaulted credits tend to be larger than completed. Most of the defaulted credits comes from individuals with low Prosper rating.\n",
    "\n",
    "Except for Auto, Business and Home Improvemrnt dont have nearly equal mean amoong all of them. Business category tend to have larger amount.\n",
    "\n",
    "\n",
    "## Key Insights for Presentation\n",
    "\n",
    "I have chosen key graphs with a high data to image ratio for the presentation. The graphs I have chosen show the distribution of the main variables, loan status, monthly income, Prosper rating and I have tried to tell a story about the main predictors for the variables of loan status and Prosper rating."
   ]
  },
  {
   "cell_type": "code",
   "execution_count": null,
   "id": "6dfff0be",
   "metadata": {},
   "outputs": [],
   "source": []
  }
 ],
 "metadata": {
  "kernelspec": {
   "display_name": "Python 3 (ipykernel)",
   "language": "python",
   "name": "python3"
  },
  "language_info": {
   "codemirror_mode": {
    "name": "ipython",
    "version": 3
   },
   "file_extension": ".py",
   "mimetype": "text/x-python",
   "name": "python",
   "nbconvert_exporter": "python",
   "pygments_lexer": "ipython3",
   "version": "3.9.7"
  }
 },
 "nbformat": 4,
 "nbformat_minor": 5
}
