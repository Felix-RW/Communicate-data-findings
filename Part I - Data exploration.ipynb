{
 "cells": [
  {
   "cell_type": "markdown",
   "id": "4600159e",
   "metadata": {},
   "source": [
    "# Part I - Prosper Loan Data Exploration\n"
   ]
  },
  {
   "cell_type": "markdown",
   "id": "dea3d90b",
   "metadata": {},
   "source": [
    "# by Jean Felix Ndayambaje"
   ]
  },
  {
   "cell_type": "markdown",
   "id": "4b731f94",
   "metadata": {},
   "source": [
    "## Preliminary Wrangling\n"
   ]
  },
  {
   "cell_type": "markdown",
   "id": "f1301234",
   "metadata": {},
   "source": [
    "Data set contains information on peer to peer loans facilitated by credit company Prosper"
   ]
  },
  {
   "cell_type": "code",
   "execution_count": 2,
   "id": "3dfa5595",
   "metadata": {},
   "outputs": [],
   "source": [
    "#importing all required packages\n",
    "import numpy as np\n",
    "import pandas as pd\n",
    "import seaborn as sns\n",
    "import matplotlib.pyplot as plt\n",
    "\n",
    "%matplotlib inline"
   ]
  },
  {
   "cell_type": "code",
   "execution_count": 3,
   "id": "938ae29e",
   "metadata": {},
   "outputs": [
    {
     "data": {
      "text/html": [
       "<div>\n",
       "<style scoped>\n",
       "    .dataframe tbody tr th:only-of-type {\n",
       "        vertical-align: middle;\n",
       "    }\n",
       "\n",
       "    .dataframe tbody tr th {\n",
       "        vertical-align: top;\n",
       "    }\n",
       "\n",
       "    .dataframe thead th {\n",
       "        text-align: right;\n",
       "    }\n",
       "</style>\n",
       "<table border=\"1\" class=\"dataframe\">\n",
       "  <thead>\n",
       "    <tr style=\"text-align: right;\">\n",
       "      <th></th>\n",
       "      <th>ListingKey</th>\n",
       "      <th>ListingNumber</th>\n",
       "      <th>ListingCreationDate</th>\n",
       "      <th>CreditGrade</th>\n",
       "      <th>Term</th>\n",
       "      <th>LoanStatus</th>\n",
       "      <th>ClosedDate</th>\n",
       "      <th>BorrowerAPR</th>\n",
       "      <th>BorrowerRate</th>\n",
       "      <th>LenderYield</th>\n",
       "      <th>...</th>\n",
       "      <th>LP_ServiceFees</th>\n",
       "      <th>LP_CollectionFees</th>\n",
       "      <th>LP_GrossPrincipalLoss</th>\n",
       "      <th>LP_NetPrincipalLoss</th>\n",
       "      <th>LP_NonPrincipalRecoverypayments</th>\n",
       "      <th>PercentFunded</th>\n",
       "      <th>Recommendations</th>\n",
       "      <th>InvestmentFromFriendsCount</th>\n",
       "      <th>InvestmentFromFriendsAmount</th>\n",
       "      <th>Investors</th>\n",
       "    </tr>\n",
       "  </thead>\n",
       "  <tbody>\n",
       "    <tr>\n",
       "      <th>0</th>\n",
       "      <td>1021339766868145413AB3B</td>\n",
       "      <td>193129</td>\n",
       "      <td>2007-08-26 19:09:29.263000000</td>\n",
       "      <td>C</td>\n",
       "      <td>36</td>\n",
       "      <td>Completed</td>\n",
       "      <td>2009-08-14 00:00:00</td>\n",
       "      <td>0.16516</td>\n",
       "      <td>0.1580</td>\n",
       "      <td>0.1380</td>\n",
       "      <td>...</td>\n",
       "      <td>-133.18</td>\n",
       "      <td>0.0</td>\n",
       "      <td>0.0</td>\n",
       "      <td>0.0</td>\n",
       "      <td>0.0</td>\n",
       "      <td>1.0</td>\n",
       "      <td>0</td>\n",
       "      <td>0</td>\n",
       "      <td>0.0</td>\n",
       "      <td>258</td>\n",
       "    </tr>\n",
       "    <tr>\n",
       "      <th>1</th>\n",
       "      <td>10273602499503308B223C1</td>\n",
       "      <td>1209647</td>\n",
       "      <td>2014-02-27 08:28:07.900000000</td>\n",
       "      <td>NaN</td>\n",
       "      <td>36</td>\n",
       "      <td>Current</td>\n",
       "      <td>NaN</td>\n",
       "      <td>0.12016</td>\n",
       "      <td>0.0920</td>\n",
       "      <td>0.0820</td>\n",
       "      <td>...</td>\n",
       "      <td>0.00</td>\n",
       "      <td>0.0</td>\n",
       "      <td>0.0</td>\n",
       "      <td>0.0</td>\n",
       "      <td>0.0</td>\n",
       "      <td>1.0</td>\n",
       "      <td>0</td>\n",
       "      <td>0</td>\n",
       "      <td>0.0</td>\n",
       "      <td>1</td>\n",
       "    </tr>\n",
       "    <tr>\n",
       "      <th>2</th>\n",
       "      <td>0EE9337825851032864889A</td>\n",
       "      <td>81716</td>\n",
       "      <td>2007-01-05 15:00:47.090000000</td>\n",
       "      <td>HR</td>\n",
       "      <td>36</td>\n",
       "      <td>Completed</td>\n",
       "      <td>2009-12-17 00:00:00</td>\n",
       "      <td>0.28269</td>\n",
       "      <td>0.2750</td>\n",
       "      <td>0.2400</td>\n",
       "      <td>...</td>\n",
       "      <td>-24.20</td>\n",
       "      <td>0.0</td>\n",
       "      <td>0.0</td>\n",
       "      <td>0.0</td>\n",
       "      <td>0.0</td>\n",
       "      <td>1.0</td>\n",
       "      <td>0</td>\n",
       "      <td>0</td>\n",
       "      <td>0.0</td>\n",
       "      <td>41</td>\n",
       "    </tr>\n",
       "    <tr>\n",
       "      <th>3</th>\n",
       "      <td>0EF5356002482715299901A</td>\n",
       "      <td>658116</td>\n",
       "      <td>2012-10-22 11:02:35.010000000</td>\n",
       "      <td>NaN</td>\n",
       "      <td>36</td>\n",
       "      <td>Current</td>\n",
       "      <td>NaN</td>\n",
       "      <td>0.12528</td>\n",
       "      <td>0.0974</td>\n",
       "      <td>0.0874</td>\n",
       "      <td>...</td>\n",
       "      <td>-108.01</td>\n",
       "      <td>0.0</td>\n",
       "      <td>0.0</td>\n",
       "      <td>0.0</td>\n",
       "      <td>0.0</td>\n",
       "      <td>1.0</td>\n",
       "      <td>0</td>\n",
       "      <td>0</td>\n",
       "      <td>0.0</td>\n",
       "      <td>158</td>\n",
       "    </tr>\n",
       "    <tr>\n",
       "      <th>4</th>\n",
       "      <td>0F023589499656230C5E3E2</td>\n",
       "      <td>909464</td>\n",
       "      <td>2013-09-14 18:38:39.097000000</td>\n",
       "      <td>NaN</td>\n",
       "      <td>36</td>\n",
       "      <td>Current</td>\n",
       "      <td>NaN</td>\n",
       "      <td>0.24614</td>\n",
       "      <td>0.2085</td>\n",
       "      <td>0.1985</td>\n",
       "      <td>...</td>\n",
       "      <td>-60.27</td>\n",
       "      <td>0.0</td>\n",
       "      <td>0.0</td>\n",
       "      <td>0.0</td>\n",
       "      <td>0.0</td>\n",
       "      <td>1.0</td>\n",
       "      <td>0</td>\n",
       "      <td>0</td>\n",
       "      <td>0.0</td>\n",
       "      <td>20</td>\n",
       "    </tr>\n",
       "    <tr>\n",
       "      <th>5</th>\n",
       "      <td>0F05359734824199381F61D</td>\n",
       "      <td>1074836</td>\n",
       "      <td>2013-12-14 08:26:37.093000000</td>\n",
       "      <td>NaN</td>\n",
       "      <td>60</td>\n",
       "      <td>Current</td>\n",
       "      <td>NaN</td>\n",
       "      <td>0.15425</td>\n",
       "      <td>0.1314</td>\n",
       "      <td>0.1214</td>\n",
       "      <td>...</td>\n",
       "      <td>-25.33</td>\n",
       "      <td>0.0</td>\n",
       "      <td>0.0</td>\n",
       "      <td>0.0</td>\n",
       "      <td>0.0</td>\n",
       "      <td>1.0</td>\n",
       "      <td>0</td>\n",
       "      <td>0</td>\n",
       "      <td>0.0</td>\n",
       "      <td>1</td>\n",
       "    </tr>\n",
       "    <tr>\n",
       "      <th>6</th>\n",
       "      <td>0F0A3576754255009D63151</td>\n",
       "      <td>750899</td>\n",
       "      <td>2013-04-12 09:52:56.147000000</td>\n",
       "      <td>NaN</td>\n",
       "      <td>36</td>\n",
       "      <td>Current</td>\n",
       "      <td>NaN</td>\n",
       "      <td>0.31032</td>\n",
       "      <td>0.2712</td>\n",
       "      <td>0.2612</td>\n",
       "      <td>...</td>\n",
       "      <td>-22.95</td>\n",
       "      <td>0.0</td>\n",
       "      <td>0.0</td>\n",
       "      <td>0.0</td>\n",
       "      <td>0.0</td>\n",
       "      <td>1.0</td>\n",
       "      <td>0</td>\n",
       "      <td>0</td>\n",
       "      <td>0.0</td>\n",
       "      <td>1</td>\n",
       "    </tr>\n",
       "    <tr>\n",
       "      <th>7</th>\n",
       "      <td>0F1035772717087366F9EA7</td>\n",
       "      <td>768193</td>\n",
       "      <td>2013-05-05 06:49:27.493000000</td>\n",
       "      <td>NaN</td>\n",
       "      <td>36</td>\n",
       "      <td>Current</td>\n",
       "      <td>NaN</td>\n",
       "      <td>0.23939</td>\n",
       "      <td>0.2019</td>\n",
       "      <td>0.1919</td>\n",
       "      <td>...</td>\n",
       "      <td>-69.21</td>\n",
       "      <td>0.0</td>\n",
       "      <td>0.0</td>\n",
       "      <td>0.0</td>\n",
       "      <td>0.0</td>\n",
       "      <td>1.0</td>\n",
       "      <td>0</td>\n",
       "      <td>0</td>\n",
       "      <td>0.0</td>\n",
       "      <td>1</td>\n",
       "    </tr>\n",
       "    <tr>\n",
       "      <th>8</th>\n",
       "      <td>0F043596202561788EA13D5</td>\n",
       "      <td>1023355</td>\n",
       "      <td>2013-12-02 10:43:39.117000000</td>\n",
       "      <td>NaN</td>\n",
       "      <td>36</td>\n",
       "      <td>Current</td>\n",
       "      <td>NaN</td>\n",
       "      <td>0.07620</td>\n",
       "      <td>0.0629</td>\n",
       "      <td>0.0529</td>\n",
       "      <td>...</td>\n",
       "      <td>-16.77</td>\n",
       "      <td>0.0</td>\n",
       "      <td>0.0</td>\n",
       "      <td>0.0</td>\n",
       "      <td>0.0</td>\n",
       "      <td>1.0</td>\n",
       "      <td>0</td>\n",
       "      <td>0</td>\n",
       "      <td>0.0</td>\n",
       "      <td>1</td>\n",
       "    </tr>\n",
       "    <tr>\n",
       "      <th>9</th>\n",
       "      <td>0F043596202561788EA13D5</td>\n",
       "      <td>1023355</td>\n",
       "      <td>2013-12-02 10:43:39.117000000</td>\n",
       "      <td>NaN</td>\n",
       "      <td>36</td>\n",
       "      <td>Current</td>\n",
       "      <td>NaN</td>\n",
       "      <td>0.07620</td>\n",
       "      <td>0.0629</td>\n",
       "      <td>0.0529</td>\n",
       "      <td>...</td>\n",
       "      <td>-16.77</td>\n",
       "      <td>0.0</td>\n",
       "      <td>0.0</td>\n",
       "      <td>0.0</td>\n",
       "      <td>0.0</td>\n",
       "      <td>1.0</td>\n",
       "      <td>0</td>\n",
       "      <td>0</td>\n",
       "      <td>0.0</td>\n",
       "      <td>1</td>\n",
       "    </tr>\n",
       "  </tbody>\n",
       "</table>\n",
       "<p>10 rows × 81 columns</p>\n",
       "</div>"
      ],
      "text/plain": [
       "                ListingKey  ListingNumber            ListingCreationDate  \\\n",
       "0  1021339766868145413AB3B         193129  2007-08-26 19:09:29.263000000   \n",
       "1  10273602499503308B223C1        1209647  2014-02-27 08:28:07.900000000   \n",
       "2  0EE9337825851032864889A          81716  2007-01-05 15:00:47.090000000   \n",
       "3  0EF5356002482715299901A         658116  2012-10-22 11:02:35.010000000   \n",
       "4  0F023589499656230C5E3E2         909464  2013-09-14 18:38:39.097000000   \n",
       "5  0F05359734824199381F61D        1074836  2013-12-14 08:26:37.093000000   \n",
       "6  0F0A3576754255009D63151         750899  2013-04-12 09:52:56.147000000   \n",
       "7  0F1035772717087366F9EA7         768193  2013-05-05 06:49:27.493000000   \n",
       "8  0F043596202561788EA13D5        1023355  2013-12-02 10:43:39.117000000   \n",
       "9  0F043596202561788EA13D5        1023355  2013-12-02 10:43:39.117000000   \n",
       "\n",
       "  CreditGrade  Term LoanStatus           ClosedDate  BorrowerAPR  \\\n",
       "0           C    36  Completed  2009-08-14 00:00:00      0.16516   \n",
       "1         NaN    36    Current                  NaN      0.12016   \n",
       "2          HR    36  Completed  2009-12-17 00:00:00      0.28269   \n",
       "3         NaN    36    Current                  NaN      0.12528   \n",
       "4         NaN    36    Current                  NaN      0.24614   \n",
       "5         NaN    60    Current                  NaN      0.15425   \n",
       "6         NaN    36    Current                  NaN      0.31032   \n",
       "7         NaN    36    Current                  NaN      0.23939   \n",
       "8         NaN    36    Current                  NaN      0.07620   \n",
       "9         NaN    36    Current                  NaN      0.07620   \n",
       "\n",
       "   BorrowerRate  LenderYield  ...  LP_ServiceFees  LP_CollectionFees  \\\n",
       "0        0.1580       0.1380  ...         -133.18                0.0   \n",
       "1        0.0920       0.0820  ...            0.00                0.0   \n",
       "2        0.2750       0.2400  ...          -24.20                0.0   \n",
       "3        0.0974       0.0874  ...         -108.01                0.0   \n",
       "4        0.2085       0.1985  ...          -60.27                0.0   \n",
       "5        0.1314       0.1214  ...          -25.33                0.0   \n",
       "6        0.2712       0.2612  ...          -22.95                0.0   \n",
       "7        0.2019       0.1919  ...          -69.21                0.0   \n",
       "8        0.0629       0.0529  ...          -16.77                0.0   \n",
       "9        0.0629       0.0529  ...          -16.77                0.0   \n",
       "\n",
       "   LP_GrossPrincipalLoss  LP_NetPrincipalLoss LP_NonPrincipalRecoverypayments  \\\n",
       "0                    0.0                  0.0                             0.0   \n",
       "1                    0.0                  0.0                             0.0   \n",
       "2                    0.0                  0.0                             0.0   \n",
       "3                    0.0                  0.0                             0.0   \n",
       "4                    0.0                  0.0                             0.0   \n",
       "5                    0.0                  0.0                             0.0   \n",
       "6                    0.0                  0.0                             0.0   \n",
       "7                    0.0                  0.0                             0.0   \n",
       "8                    0.0                  0.0                             0.0   \n",
       "9                    0.0                  0.0                             0.0   \n",
       "\n",
       "   PercentFunded  Recommendations InvestmentFromFriendsCount  \\\n",
       "0            1.0                0                          0   \n",
       "1            1.0                0                          0   \n",
       "2            1.0                0                          0   \n",
       "3            1.0                0                          0   \n",
       "4            1.0                0                          0   \n",
       "5            1.0                0                          0   \n",
       "6            1.0                0                          0   \n",
       "7            1.0                0                          0   \n",
       "8            1.0                0                          0   \n",
       "9            1.0                0                          0   \n",
       "\n",
       "  InvestmentFromFriendsAmount Investors  \n",
       "0                         0.0       258  \n",
       "1                         0.0         1  \n",
       "2                         0.0        41  \n",
       "3                         0.0       158  \n",
       "4                         0.0        20  \n",
       "5                         0.0         1  \n",
       "6                         0.0         1  \n",
       "7                         0.0         1  \n",
       "8                         0.0         1  \n",
       "9                         0.0         1  \n",
       "\n",
       "[10 rows x 81 columns]"
      ]
     },
     "execution_count": 3,
     "metadata": {},
     "output_type": "execute_result"
    }
   ],
   "source": [
    "df = pd.read_csv(\"prosperLoanData.csv\")\n",
    "df.head(10)"
   ]
  },
  {
   "cell_type": "code",
   "execution_count": 6,
   "id": "a78a96c0",
   "metadata": {},
   "outputs": [
    {
     "name": "stdout",
     "output_type": "stream",
     "text": [
      "<class 'pandas.core.frame.DataFrame'>\n",
      "RangeIndex: 113937 entries, 0 to 113936\n",
      "Data columns (total 81 columns):\n",
      " #   Column                               Non-Null Count   Dtype  \n",
      "---  ------                               --------------   -----  \n",
      " 0   ListingKey                           113937 non-null  object \n",
      " 1   ListingNumber                        113937 non-null  int64  \n",
      " 2   ListingCreationDate                  113937 non-null  object \n",
      " 3   CreditGrade                          28953 non-null   object \n",
      " 4   Term                                 113937 non-null  int64  \n",
      " 5   LoanStatus                           113937 non-null  object \n",
      " 6   ClosedDate                           55089 non-null   object \n",
      " 7   BorrowerAPR                          113912 non-null  float64\n",
      " 8   BorrowerRate                         113937 non-null  float64\n",
      " 9   LenderYield                          113937 non-null  float64\n",
      " 10  EstimatedEffectiveYield              84853 non-null   float64\n",
      " 11  EstimatedLoss                        84853 non-null   float64\n",
      " 12  EstimatedReturn                      84853 non-null   float64\n",
      " 13  ProsperRating (numeric)              84853 non-null   float64\n",
      " 14  ProsperRating (Alpha)                84853 non-null   object \n",
      " 15  ProsperScore                         84853 non-null   float64\n",
      " 16  ListingCategory (numeric)            113937 non-null  int64  \n",
      " 17  BorrowerState                        108422 non-null  object \n",
      " 18  Occupation                           110349 non-null  object \n",
      " 19  EmploymentStatus                     111682 non-null  object \n",
      " 20  EmploymentStatusDuration             106312 non-null  float64\n",
      " 21  IsBorrowerHomeowner                  113937 non-null  bool   \n",
      " 22  CurrentlyInGroup                     113937 non-null  bool   \n",
      " 23  GroupKey                             13341 non-null   object \n",
      " 24  DateCreditPulled                     113937 non-null  object \n",
      " 25  CreditScoreRangeLower                113346 non-null  float64\n",
      " 26  CreditScoreRangeUpper                113346 non-null  float64\n",
      " 27  FirstRecordedCreditLine              113240 non-null  object \n",
      " 28  CurrentCreditLines                   106333 non-null  float64\n",
      " 29  OpenCreditLines                      106333 non-null  float64\n",
      " 30  TotalCreditLinespast7years           113240 non-null  float64\n",
      " 31  OpenRevolvingAccounts                113937 non-null  int64  \n",
      " 32  OpenRevolvingMonthlyPayment          113937 non-null  float64\n",
      " 33  InquiriesLast6Months                 113240 non-null  float64\n",
      " 34  TotalInquiries                       112778 non-null  float64\n",
      " 35  CurrentDelinquencies                 113240 non-null  float64\n",
      " 36  AmountDelinquent                     106315 non-null  float64\n",
      " 37  DelinquenciesLast7Years              112947 non-null  float64\n",
      " 38  PublicRecordsLast10Years             113240 non-null  float64\n",
      " 39  PublicRecordsLast12Months            106333 non-null  float64\n",
      " 40  RevolvingCreditBalance               106333 non-null  float64\n",
      " 41  BankcardUtilization                  106333 non-null  float64\n",
      " 42  AvailableBankcardCredit              106393 non-null  float64\n",
      " 43  TotalTrades                          106393 non-null  float64\n",
      " 44  TradesNeverDelinquent (percentage)   106393 non-null  float64\n",
      " 45  TradesOpenedLast6Months              106393 non-null  float64\n",
      " 46  DebtToIncomeRatio                    105383 non-null  float64\n",
      " 47  IncomeRange                          113937 non-null  object \n",
      " 48  IncomeVerifiable                     113937 non-null  bool   \n",
      " 49  StatedMonthlyIncome                  113937 non-null  float64\n",
      " 50  LoanKey                              113937 non-null  object \n",
      " 51  TotalProsperLoans                    22085 non-null   float64\n",
      " 52  TotalProsperPaymentsBilled           22085 non-null   float64\n",
      " 53  OnTimeProsperPayments                22085 non-null   float64\n",
      " 54  ProsperPaymentsLessThanOneMonthLate  22085 non-null   float64\n",
      " 55  ProsperPaymentsOneMonthPlusLate      22085 non-null   float64\n",
      " 56  ProsperPrincipalBorrowed             22085 non-null   float64\n",
      " 57  ProsperPrincipalOutstanding          22085 non-null   float64\n",
      " 58  ScorexChangeAtTimeOfListing          18928 non-null   float64\n",
      " 59  LoanCurrentDaysDelinquent            113937 non-null  int64  \n",
      " 60  LoanFirstDefaultedCycleNumber        16952 non-null   float64\n",
      " 61  LoanMonthsSinceOrigination           113937 non-null  int64  \n",
      " 62  LoanNumber                           113937 non-null  int64  \n",
      " 63  LoanOriginalAmount                   113937 non-null  int64  \n",
      " 64  LoanOriginationDate                  113937 non-null  object \n",
      " 65  LoanOriginationQuarter               113937 non-null  object \n",
      " 66  MemberKey                            113937 non-null  object \n",
      " 67  MonthlyLoanPayment                   113937 non-null  float64\n",
      " 68  LP_CustomerPayments                  113937 non-null  float64\n",
      " 69  LP_CustomerPrincipalPayments         113937 non-null  float64\n",
      " 70  LP_InterestandFees                   113937 non-null  float64\n",
      " 71  LP_ServiceFees                       113937 non-null  float64\n",
      " 72  LP_CollectionFees                    113937 non-null  float64\n",
      " 73  LP_GrossPrincipalLoss                113937 non-null  float64\n",
      " 74  LP_NetPrincipalLoss                  113937 non-null  float64\n",
      " 75  LP_NonPrincipalRecoverypayments      113937 non-null  float64\n",
      " 76  PercentFunded                        113937 non-null  float64\n",
      " 77  Recommendations                      113937 non-null  int64  \n",
      " 78  InvestmentFromFriendsCount           113937 non-null  int64  \n",
      " 79  InvestmentFromFriendsAmount          113937 non-null  float64\n",
      " 80  Investors                            113937 non-null  int64  \n",
      "dtypes: bool(3), float64(50), int64(11), object(17)\n",
      "memory usage: 68.1+ MB\n"
     ]
    }
   ],
   "source": [
    "df.info()"
   ]
  },
  {
   "cell_type": "code",
   "execution_count": 4,
   "id": "289edfb2",
   "metadata": {},
   "outputs": [
    {
     "data": {
      "text/html": [
       "<div>\n",
       "<style scoped>\n",
       "    .dataframe tbody tr th:only-of-type {\n",
       "        vertical-align: middle;\n",
       "    }\n",
       "\n",
       "    .dataframe tbody tr th {\n",
       "        vertical-align: top;\n",
       "    }\n",
       "\n",
       "    .dataframe thead th {\n",
       "        text-align: right;\n",
       "    }\n",
       "</style>\n",
       "<table border=\"1\" class=\"dataframe\">\n",
       "  <thead>\n",
       "    <tr style=\"text-align: right;\">\n",
       "      <th></th>\n",
       "      <th>ListingNumber</th>\n",
       "      <th>Term</th>\n",
       "      <th>BorrowerAPR</th>\n",
       "      <th>BorrowerRate</th>\n",
       "      <th>LenderYield</th>\n",
       "      <th>EstimatedEffectiveYield</th>\n",
       "      <th>EstimatedLoss</th>\n",
       "      <th>EstimatedReturn</th>\n",
       "      <th>ProsperRating (numeric)</th>\n",
       "      <th>ProsperScore</th>\n",
       "      <th>...</th>\n",
       "      <th>LP_ServiceFees</th>\n",
       "      <th>LP_CollectionFees</th>\n",
       "      <th>LP_GrossPrincipalLoss</th>\n",
       "      <th>LP_NetPrincipalLoss</th>\n",
       "      <th>LP_NonPrincipalRecoverypayments</th>\n",
       "      <th>PercentFunded</th>\n",
       "      <th>Recommendations</th>\n",
       "      <th>InvestmentFromFriendsCount</th>\n",
       "      <th>InvestmentFromFriendsAmount</th>\n",
       "      <th>Investors</th>\n",
       "    </tr>\n",
       "  </thead>\n",
       "  <tbody>\n",
       "    <tr>\n",
       "      <th>count</th>\n",
       "      <td>1.139370e+05</td>\n",
       "      <td>113937.000000</td>\n",
       "      <td>113912.000000</td>\n",
       "      <td>113937.000000</td>\n",
       "      <td>113937.000000</td>\n",
       "      <td>84853.000000</td>\n",
       "      <td>84853.000000</td>\n",
       "      <td>84853.000000</td>\n",
       "      <td>84853.000000</td>\n",
       "      <td>84853.000000</td>\n",
       "      <td>...</td>\n",
       "      <td>113937.000000</td>\n",
       "      <td>113937.000000</td>\n",
       "      <td>113937.000000</td>\n",
       "      <td>113937.000000</td>\n",
       "      <td>113937.000000</td>\n",
       "      <td>113937.000000</td>\n",
       "      <td>113937.000000</td>\n",
       "      <td>113937.000000</td>\n",
       "      <td>113937.000000</td>\n",
       "      <td>113937.000000</td>\n",
       "    </tr>\n",
       "    <tr>\n",
       "      <th>mean</th>\n",
       "      <td>6.278857e+05</td>\n",
       "      <td>40.830248</td>\n",
       "      <td>0.218828</td>\n",
       "      <td>0.192764</td>\n",
       "      <td>0.182701</td>\n",
       "      <td>0.168661</td>\n",
       "      <td>0.080306</td>\n",
       "      <td>0.096068</td>\n",
       "      <td>4.072243</td>\n",
       "      <td>5.950067</td>\n",
       "      <td>...</td>\n",
       "      <td>-54.725641</td>\n",
       "      <td>-14.242698</td>\n",
       "      <td>700.446342</td>\n",
       "      <td>681.420499</td>\n",
       "      <td>25.142686</td>\n",
       "      <td>0.998584</td>\n",
       "      <td>0.048027</td>\n",
       "      <td>0.023460</td>\n",
       "      <td>16.550751</td>\n",
       "      <td>80.475228</td>\n",
       "    </tr>\n",
       "    <tr>\n",
       "      <th>std</th>\n",
       "      <td>3.280762e+05</td>\n",
       "      <td>10.436212</td>\n",
       "      <td>0.080364</td>\n",
       "      <td>0.074818</td>\n",
       "      <td>0.074516</td>\n",
       "      <td>0.068467</td>\n",
       "      <td>0.046764</td>\n",
       "      <td>0.030403</td>\n",
       "      <td>1.673227</td>\n",
       "      <td>2.376501</td>\n",
       "      <td>...</td>\n",
       "      <td>60.675425</td>\n",
       "      <td>109.232758</td>\n",
       "      <td>2388.513831</td>\n",
       "      <td>2357.167068</td>\n",
       "      <td>275.657937</td>\n",
       "      <td>0.017919</td>\n",
       "      <td>0.332353</td>\n",
       "      <td>0.232412</td>\n",
       "      <td>294.545422</td>\n",
       "      <td>103.239020</td>\n",
       "    </tr>\n",
       "    <tr>\n",
       "      <th>min</th>\n",
       "      <td>4.000000e+00</td>\n",
       "      <td>12.000000</td>\n",
       "      <td>0.006530</td>\n",
       "      <td>0.000000</td>\n",
       "      <td>-0.010000</td>\n",
       "      <td>-0.182700</td>\n",
       "      <td>0.004900</td>\n",
       "      <td>-0.182700</td>\n",
       "      <td>1.000000</td>\n",
       "      <td>1.000000</td>\n",
       "      <td>...</td>\n",
       "      <td>-664.870000</td>\n",
       "      <td>-9274.750000</td>\n",
       "      <td>-94.200000</td>\n",
       "      <td>-954.550000</td>\n",
       "      <td>0.000000</td>\n",
       "      <td>0.700000</td>\n",
       "      <td>0.000000</td>\n",
       "      <td>0.000000</td>\n",
       "      <td>0.000000</td>\n",
       "      <td>1.000000</td>\n",
       "    </tr>\n",
       "    <tr>\n",
       "      <th>25%</th>\n",
       "      <td>4.009190e+05</td>\n",
       "      <td>36.000000</td>\n",
       "      <td>0.156290</td>\n",
       "      <td>0.134000</td>\n",
       "      <td>0.124200</td>\n",
       "      <td>0.115670</td>\n",
       "      <td>0.042400</td>\n",
       "      <td>0.074080</td>\n",
       "      <td>3.000000</td>\n",
       "      <td>4.000000</td>\n",
       "      <td>...</td>\n",
       "      <td>-73.180000</td>\n",
       "      <td>0.000000</td>\n",
       "      <td>0.000000</td>\n",
       "      <td>0.000000</td>\n",
       "      <td>0.000000</td>\n",
       "      <td>1.000000</td>\n",
       "      <td>0.000000</td>\n",
       "      <td>0.000000</td>\n",
       "      <td>0.000000</td>\n",
       "      <td>2.000000</td>\n",
       "    </tr>\n",
       "    <tr>\n",
       "      <th>50%</th>\n",
       "      <td>6.005540e+05</td>\n",
       "      <td>36.000000</td>\n",
       "      <td>0.209760</td>\n",
       "      <td>0.184000</td>\n",
       "      <td>0.173000</td>\n",
       "      <td>0.161500</td>\n",
       "      <td>0.072400</td>\n",
       "      <td>0.091700</td>\n",
       "      <td>4.000000</td>\n",
       "      <td>6.000000</td>\n",
       "      <td>...</td>\n",
       "      <td>-34.440000</td>\n",
       "      <td>0.000000</td>\n",
       "      <td>0.000000</td>\n",
       "      <td>0.000000</td>\n",
       "      <td>0.000000</td>\n",
       "      <td>1.000000</td>\n",
       "      <td>0.000000</td>\n",
       "      <td>0.000000</td>\n",
       "      <td>0.000000</td>\n",
       "      <td>44.000000</td>\n",
       "    </tr>\n",
       "    <tr>\n",
       "      <th>75%</th>\n",
       "      <td>8.926340e+05</td>\n",
       "      <td>36.000000</td>\n",
       "      <td>0.283810</td>\n",
       "      <td>0.250000</td>\n",
       "      <td>0.240000</td>\n",
       "      <td>0.224300</td>\n",
       "      <td>0.112000</td>\n",
       "      <td>0.116600</td>\n",
       "      <td>5.000000</td>\n",
       "      <td>8.000000</td>\n",
       "      <td>...</td>\n",
       "      <td>-13.920000</td>\n",
       "      <td>0.000000</td>\n",
       "      <td>0.000000</td>\n",
       "      <td>0.000000</td>\n",
       "      <td>0.000000</td>\n",
       "      <td>1.000000</td>\n",
       "      <td>0.000000</td>\n",
       "      <td>0.000000</td>\n",
       "      <td>0.000000</td>\n",
       "      <td>115.000000</td>\n",
       "    </tr>\n",
       "    <tr>\n",
       "      <th>max</th>\n",
       "      <td>1.255725e+06</td>\n",
       "      <td>60.000000</td>\n",
       "      <td>0.512290</td>\n",
       "      <td>0.497500</td>\n",
       "      <td>0.492500</td>\n",
       "      <td>0.319900</td>\n",
       "      <td>0.366000</td>\n",
       "      <td>0.283700</td>\n",
       "      <td>7.000000</td>\n",
       "      <td>11.000000</td>\n",
       "      <td>...</td>\n",
       "      <td>32.060000</td>\n",
       "      <td>0.000000</td>\n",
       "      <td>25000.000000</td>\n",
       "      <td>25000.000000</td>\n",
       "      <td>21117.900000</td>\n",
       "      <td>1.012500</td>\n",
       "      <td>39.000000</td>\n",
       "      <td>33.000000</td>\n",
       "      <td>25000.000000</td>\n",
       "      <td>1189.000000</td>\n",
       "    </tr>\n",
       "  </tbody>\n",
       "</table>\n",
       "<p>8 rows × 61 columns</p>\n",
       "</div>"
      ],
      "text/plain": [
       "       ListingNumber           Term    BorrowerAPR   BorrowerRate  \\\n",
       "count   1.139370e+05  113937.000000  113912.000000  113937.000000   \n",
       "mean    6.278857e+05      40.830248       0.218828       0.192764   \n",
       "std     3.280762e+05      10.436212       0.080364       0.074818   \n",
       "min     4.000000e+00      12.000000       0.006530       0.000000   \n",
       "25%     4.009190e+05      36.000000       0.156290       0.134000   \n",
       "50%     6.005540e+05      36.000000       0.209760       0.184000   \n",
       "75%     8.926340e+05      36.000000       0.283810       0.250000   \n",
       "max     1.255725e+06      60.000000       0.512290       0.497500   \n",
       "\n",
       "         LenderYield  EstimatedEffectiveYield  EstimatedLoss  EstimatedReturn  \\\n",
       "count  113937.000000             84853.000000   84853.000000     84853.000000   \n",
       "mean        0.182701                 0.168661       0.080306         0.096068   \n",
       "std         0.074516                 0.068467       0.046764         0.030403   \n",
       "min        -0.010000                -0.182700       0.004900        -0.182700   \n",
       "25%         0.124200                 0.115670       0.042400         0.074080   \n",
       "50%         0.173000                 0.161500       0.072400         0.091700   \n",
       "75%         0.240000                 0.224300       0.112000         0.116600   \n",
       "max         0.492500                 0.319900       0.366000         0.283700   \n",
       "\n",
       "       ProsperRating (numeric)  ProsperScore  ...  LP_ServiceFees  \\\n",
       "count             84853.000000  84853.000000  ...   113937.000000   \n",
       "mean                  4.072243      5.950067  ...      -54.725641   \n",
       "std                   1.673227      2.376501  ...       60.675425   \n",
       "min                   1.000000      1.000000  ...     -664.870000   \n",
       "25%                   3.000000      4.000000  ...      -73.180000   \n",
       "50%                   4.000000      6.000000  ...      -34.440000   \n",
       "75%                   5.000000      8.000000  ...      -13.920000   \n",
       "max                   7.000000     11.000000  ...       32.060000   \n",
       "\n",
       "       LP_CollectionFees  LP_GrossPrincipalLoss  LP_NetPrincipalLoss  \\\n",
       "count      113937.000000          113937.000000        113937.000000   \n",
       "mean          -14.242698             700.446342           681.420499   \n",
       "std           109.232758            2388.513831          2357.167068   \n",
       "min         -9274.750000             -94.200000          -954.550000   \n",
       "25%             0.000000               0.000000             0.000000   \n",
       "50%             0.000000               0.000000             0.000000   \n",
       "75%             0.000000               0.000000             0.000000   \n",
       "max             0.000000           25000.000000         25000.000000   \n",
       "\n",
       "       LP_NonPrincipalRecoverypayments  PercentFunded  Recommendations  \\\n",
       "count                    113937.000000  113937.000000    113937.000000   \n",
       "mean                         25.142686       0.998584         0.048027   \n",
       "std                         275.657937       0.017919         0.332353   \n",
       "min                           0.000000       0.700000         0.000000   \n",
       "25%                           0.000000       1.000000         0.000000   \n",
       "50%                           0.000000       1.000000         0.000000   \n",
       "75%                           0.000000       1.000000         0.000000   \n",
       "max                       21117.900000       1.012500        39.000000   \n",
       "\n",
       "       InvestmentFromFriendsCount  InvestmentFromFriendsAmount      Investors  \n",
       "count               113937.000000                113937.000000  113937.000000  \n",
       "mean                     0.023460                    16.550751      80.475228  \n",
       "std                      0.232412                   294.545422     103.239020  \n",
       "min                      0.000000                     0.000000       1.000000  \n",
       "25%                      0.000000                     0.000000       2.000000  \n",
       "50%                      0.000000                     0.000000      44.000000  \n",
       "75%                      0.000000                     0.000000     115.000000  \n",
       "max                     33.000000                 25000.000000    1189.000000  \n",
       "\n",
       "[8 rows x 61 columns]"
      ]
     },
     "execution_count": 4,
     "metadata": {},
     "output_type": "execute_result"
    }
   ],
   "source": [
    "df.describe()"
   ]
  },
  {
   "cell_type": "code",
   "execution_count": 6,
   "id": "fee9582b",
   "metadata": {},
   "outputs": [
    {
     "data": {
      "text/html": [
       "<div>\n",
       "<style scoped>\n",
       "    .dataframe tbody tr th:only-of-type {\n",
       "        vertical-align: middle;\n",
       "    }\n",
       "\n",
       "    .dataframe tbody tr th {\n",
       "        vertical-align: top;\n",
       "    }\n",
       "\n",
       "    .dataframe thead th {\n",
       "        text-align: right;\n",
       "    }\n",
       "</style>\n",
       "<table border=\"1\" class=\"dataframe\">\n",
       "  <thead>\n",
       "    <tr style=\"text-align: right;\">\n",
       "      <th></th>\n",
       "      <th>ListingKey</th>\n",
       "      <th>ListingNumber</th>\n",
       "      <th>ListingCreationDate</th>\n",
       "      <th>CreditGrade</th>\n",
       "      <th>Term</th>\n",
       "      <th>LoanStatus</th>\n",
       "      <th>ClosedDate</th>\n",
       "      <th>BorrowerAPR</th>\n",
       "      <th>BorrowerRate</th>\n",
       "      <th>LenderYield</th>\n",
       "      <th>...</th>\n",
       "      <th>LP_ServiceFees</th>\n",
       "      <th>LP_CollectionFees</th>\n",
       "      <th>LP_GrossPrincipalLoss</th>\n",
       "      <th>LP_NetPrincipalLoss</th>\n",
       "      <th>LP_NonPrincipalRecoverypayments</th>\n",
       "      <th>PercentFunded</th>\n",
       "      <th>Recommendations</th>\n",
       "      <th>InvestmentFromFriendsCount</th>\n",
       "      <th>InvestmentFromFriendsAmount</th>\n",
       "      <th>Investors</th>\n",
       "    </tr>\n",
       "  </thead>\n",
       "  <tbody>\n",
       "    <tr>\n",
       "      <th>108858</th>\n",
       "      <td>EA523596411674633BE2B22</td>\n",
       "      <td>1033531</td>\n",
       "      <td>2013-12-07 11:23:48.543000000</td>\n",
       "      <td>NaN</td>\n",
       "      <td>36</td>\n",
       "      <td>Past Due (16-30 days)</td>\n",
       "      <td>NaN</td>\n",
       "      <td>0.21648</td>\n",
       "      <td>0.1795</td>\n",
       "      <td>0.1695</td>\n",
       "      <td>...</td>\n",
       "      <td>-2.55</td>\n",
       "      <td>0.0</td>\n",
       "      <td>0.00</td>\n",
       "      <td>0.00</td>\n",
       "      <td>0.0</td>\n",
       "      <td>1.0</td>\n",
       "      <td>0</td>\n",
       "      <td>0</td>\n",
       "      <td>0.0</td>\n",
       "      <td>1</td>\n",
       "    </tr>\n",
       "    <tr>\n",
       "      <th>23901</th>\n",
       "      <td>05613526384663052DA5F12</td>\n",
       "      <td>528034</td>\n",
       "      <td>2011-09-18 20:57:30.093000000</td>\n",
       "      <td>NaN</td>\n",
       "      <td>36</td>\n",
       "      <td>Completed</td>\n",
       "      <td>2012-05-10 00:00:00</td>\n",
       "      <td>0.16056</td>\n",
       "      <td>0.1390</td>\n",
       "      <td>0.1290</td>\n",
       "      <td>...</td>\n",
       "      <td>-68.23</td>\n",
       "      <td>0.0</td>\n",
       "      <td>0.00</td>\n",
       "      <td>0.00</td>\n",
       "      <td>0.0</td>\n",
       "      <td>1.0</td>\n",
       "      <td>0</td>\n",
       "      <td>0</td>\n",
       "      <td>0.0</td>\n",
       "      <td>100</td>\n",
       "    </tr>\n",
       "    <tr>\n",
       "      <th>1497</th>\n",
       "      <td>30B433682852996309ABF6B</td>\n",
       "      <td>39752</td>\n",
       "      <td>2006-09-15 12:03:54.050000000</td>\n",
       "      <td>A</td>\n",
       "      <td>36</td>\n",
       "      <td>Defaulted</td>\n",
       "      <td>2007-06-29 00:00:00</td>\n",
       "      <td>0.17722</td>\n",
       "      <td>0.1700</td>\n",
       "      <td>0.1650</td>\n",
       "      <td>...</td>\n",
       "      <td>-8.86</td>\n",
       "      <td>0.0</td>\n",
       "      <td>4610.14</td>\n",
       "      <td>4598.58</td>\n",
       "      <td>0.0</td>\n",
       "      <td>1.0</td>\n",
       "      <td>0</td>\n",
       "      <td>0</td>\n",
       "      <td>0.0</td>\n",
       "      <td>40</td>\n",
       "    </tr>\n",
       "    <tr>\n",
       "      <th>47541</th>\n",
       "      <td>443E353634908636816F662</td>\n",
       "      <td>552558</td>\n",
       "      <td>2012-01-18 21:37:38.290000000</td>\n",
       "      <td>NaN</td>\n",
       "      <td>36</td>\n",
       "      <td>Completed</td>\n",
       "      <td>2012-04-20 00:00:00</td>\n",
       "      <td>0.06828</td>\n",
       "      <td>0.0649</td>\n",
       "      <td>0.0549</td>\n",
       "      <td>...</td>\n",
       "      <td>-4.07</td>\n",
       "      <td>0.0</td>\n",
       "      <td>0.00</td>\n",
       "      <td>0.00</td>\n",
       "      <td>0.0</td>\n",
       "      <td>1.0</td>\n",
       "      <td>0</td>\n",
       "      <td>0</td>\n",
       "      <td>0.0</td>\n",
       "      <td>52</td>\n",
       "    </tr>\n",
       "    <tr>\n",
       "      <th>72235</th>\n",
       "      <td>E0AD3365954791833019B1C</td>\n",
       "      <td>3893</td>\n",
       "      <td>2006-03-27 22:58:13.333000000</td>\n",
       "      <td>B</td>\n",
       "      <td>36</td>\n",
       "      <td>Completed</td>\n",
       "      <td>2006-07-28 00:00:00</td>\n",
       "      <td>0.12901</td>\n",
       "      <td>0.1220</td>\n",
       "      <td>0.1170</td>\n",
       "      <td>...</td>\n",
       "      <td>-7.54</td>\n",
       "      <td>0.0</td>\n",
       "      <td>0.00</td>\n",
       "      <td>0.00</td>\n",
       "      <td>0.0</td>\n",
       "      <td>1.0</td>\n",
       "      <td>0</td>\n",
       "      <td>0</td>\n",
       "      <td>0.0</td>\n",
       "      <td>52</td>\n",
       "    </tr>\n",
       "    <tr>\n",
       "      <th>35145</th>\n",
       "      <td>03373545338785935A6F75F</td>\n",
       "      <td>582043</td>\n",
       "      <td>2012-04-24 12:44:53.273000000</td>\n",
       "      <td>NaN</td>\n",
       "      <td>36</td>\n",
       "      <td>Current</td>\n",
       "      <td>NaN</td>\n",
       "      <td>0.22742</td>\n",
       "      <td>0.1902</td>\n",
       "      <td>0.1802</td>\n",
       "      <td>...</td>\n",
       "      <td>-136.36</td>\n",
       "      <td>0.0</td>\n",
       "      <td>0.00</td>\n",
       "      <td>0.00</td>\n",
       "      <td>0.0</td>\n",
       "      <td>1.0</td>\n",
       "      <td>0</td>\n",
       "      <td>0</td>\n",
       "      <td>0.0</td>\n",
       "      <td>13</td>\n",
       "    </tr>\n",
       "    <tr>\n",
       "      <th>39356</th>\n",
       "      <td>9B8335324769332981071EB</td>\n",
       "      <td>540370</td>\n",
       "      <td>2011-11-21 13:57:34.823000000</td>\n",
       "      <td>NaN</td>\n",
       "      <td>36</td>\n",
       "      <td>Current</td>\n",
       "      <td>NaN</td>\n",
       "      <td>0.29240</td>\n",
       "      <td>0.2537</td>\n",
       "      <td>0.2437</td>\n",
       "      <td>...</td>\n",
       "      <td>-95.44</td>\n",
       "      <td>0.0</td>\n",
       "      <td>0.00</td>\n",
       "      <td>0.00</td>\n",
       "      <td>0.0</td>\n",
       "      <td>1.0</td>\n",
       "      <td>0</td>\n",
       "      <td>0</td>\n",
       "      <td>0.0</td>\n",
       "      <td>42</td>\n",
       "    </tr>\n",
       "    <tr>\n",
       "      <th>180</th>\n",
       "      <td>0F4C35965009736891E5D16</td>\n",
       "      <td>1068929</td>\n",
       "      <td>2013-12-13 03:54:33.400000000</td>\n",
       "      <td>NaN</td>\n",
       "      <td>36</td>\n",
       "      <td>Current</td>\n",
       "      <td>NaN</td>\n",
       "      <td>0.23438</td>\n",
       "      <td>0.1970</td>\n",
       "      <td>0.1870</td>\n",
       "      <td>...</td>\n",
       "      <td>-12.21</td>\n",
       "      <td>0.0</td>\n",
       "      <td>0.00</td>\n",
       "      <td>0.00</td>\n",
       "      <td>0.0</td>\n",
       "      <td>1.0</td>\n",
       "      <td>0</td>\n",
       "      <td>0</td>\n",
       "      <td>0.0</td>\n",
       "      <td>1</td>\n",
       "    </tr>\n",
       "    <tr>\n",
       "      <th>28775</th>\n",
       "      <td>C36B35363753191160E93BB</td>\n",
       "      <td>552269</td>\n",
       "      <td>2012-01-18 07:08:04.253000000</td>\n",
       "      <td>NaN</td>\n",
       "      <td>36</td>\n",
       "      <td>Current</td>\n",
       "      <td>NaN</td>\n",
       "      <td>0.17359</td>\n",
       "      <td>0.1449</td>\n",
       "      <td>0.1349</td>\n",
       "      <td>...</td>\n",
       "      <td>-220.71</td>\n",
       "      <td>0.0</td>\n",
       "      <td>0.00</td>\n",
       "      <td>0.00</td>\n",
       "      <td>0.0</td>\n",
       "      <td>1.0</td>\n",
       "      <td>0</td>\n",
       "      <td>0</td>\n",
       "      <td>0.0</td>\n",
       "      <td>169</td>\n",
       "    </tr>\n",
       "    <tr>\n",
       "      <th>76614</th>\n",
       "      <td>19CB34849098750708E42A2</td>\n",
       "      <td>460798</td>\n",
       "      <td>2010-06-01 17:24:37.647000000</td>\n",
       "      <td>NaN</td>\n",
       "      <td>36</td>\n",
       "      <td>Completed</td>\n",
       "      <td>2013-06-11 00:00:00</td>\n",
       "      <td>0.13119</td>\n",
       "      <td>0.1100</td>\n",
       "      <td>0.1000</td>\n",
       "      <td>...</td>\n",
       "      <td>-148.00</td>\n",
       "      <td>0.0</td>\n",
       "      <td>0.00</td>\n",
       "      <td>0.00</td>\n",
       "      <td>0.0</td>\n",
       "      <td>1.0</td>\n",
       "      <td>0</td>\n",
       "      <td>0</td>\n",
       "      <td>0.0</td>\n",
       "      <td>236</td>\n",
       "    </tr>\n",
       "  </tbody>\n",
       "</table>\n",
       "<p>10 rows × 81 columns</p>\n",
       "</div>"
      ],
      "text/plain": [
       "                     ListingKey  ListingNumber            ListingCreationDate  \\\n",
       "108858  EA523596411674633BE2B22        1033531  2013-12-07 11:23:48.543000000   \n",
       "23901   05613526384663052DA5F12         528034  2011-09-18 20:57:30.093000000   \n",
       "1497    30B433682852996309ABF6B          39752  2006-09-15 12:03:54.050000000   \n",
       "47541   443E353634908636816F662         552558  2012-01-18 21:37:38.290000000   \n",
       "72235   E0AD3365954791833019B1C           3893  2006-03-27 22:58:13.333000000   \n",
       "35145   03373545338785935A6F75F         582043  2012-04-24 12:44:53.273000000   \n",
       "39356   9B8335324769332981071EB         540370  2011-11-21 13:57:34.823000000   \n",
       "180     0F4C35965009736891E5D16        1068929  2013-12-13 03:54:33.400000000   \n",
       "28775   C36B35363753191160E93BB         552269  2012-01-18 07:08:04.253000000   \n",
       "76614   19CB34849098750708E42A2         460798  2010-06-01 17:24:37.647000000   \n",
       "\n",
       "       CreditGrade  Term             LoanStatus           ClosedDate  \\\n",
       "108858         NaN    36  Past Due (16-30 days)                  NaN   \n",
       "23901          NaN    36              Completed  2012-05-10 00:00:00   \n",
       "1497             A    36              Defaulted  2007-06-29 00:00:00   \n",
       "47541          NaN    36              Completed  2012-04-20 00:00:00   \n",
       "72235            B    36              Completed  2006-07-28 00:00:00   \n",
       "35145          NaN    36                Current                  NaN   \n",
       "39356          NaN    36                Current                  NaN   \n",
       "180            NaN    36                Current                  NaN   \n",
       "28775          NaN    36                Current                  NaN   \n",
       "76614          NaN    36              Completed  2013-06-11 00:00:00   \n",
       "\n",
       "        BorrowerAPR  BorrowerRate  LenderYield  ...  LP_ServiceFees  \\\n",
       "108858      0.21648        0.1795       0.1695  ...           -2.55   \n",
       "23901       0.16056        0.1390       0.1290  ...          -68.23   \n",
       "1497        0.17722        0.1700       0.1650  ...           -8.86   \n",
       "47541       0.06828        0.0649       0.0549  ...           -4.07   \n",
       "72235       0.12901        0.1220       0.1170  ...           -7.54   \n",
       "35145       0.22742        0.1902       0.1802  ...         -136.36   \n",
       "39356       0.29240        0.2537       0.2437  ...          -95.44   \n",
       "180         0.23438        0.1970       0.1870  ...          -12.21   \n",
       "28775       0.17359        0.1449       0.1349  ...         -220.71   \n",
       "76614       0.13119        0.1100       0.1000  ...         -148.00   \n",
       "\n",
       "        LP_CollectionFees  LP_GrossPrincipalLoss  LP_NetPrincipalLoss  \\\n",
       "108858                0.0                   0.00                 0.00   \n",
       "23901                 0.0                   0.00                 0.00   \n",
       "1497                  0.0                4610.14              4598.58   \n",
       "47541                 0.0                   0.00                 0.00   \n",
       "72235                 0.0                   0.00                 0.00   \n",
       "35145                 0.0                   0.00                 0.00   \n",
       "39356                 0.0                   0.00                 0.00   \n",
       "180                   0.0                   0.00                 0.00   \n",
       "28775                 0.0                   0.00                 0.00   \n",
       "76614                 0.0                   0.00                 0.00   \n",
       "\n",
       "       LP_NonPrincipalRecoverypayments  PercentFunded  Recommendations  \\\n",
       "108858                             0.0            1.0                0   \n",
       "23901                              0.0            1.0                0   \n",
       "1497                               0.0            1.0                0   \n",
       "47541                              0.0            1.0                0   \n",
       "72235                              0.0            1.0                0   \n",
       "35145                              0.0            1.0                0   \n",
       "39356                              0.0            1.0                0   \n",
       "180                                0.0            1.0                0   \n",
       "28775                              0.0            1.0                0   \n",
       "76614                              0.0            1.0                0   \n",
       "\n",
       "       InvestmentFromFriendsCount InvestmentFromFriendsAmount Investors  \n",
       "108858                          0                         0.0         1  \n",
       "23901                           0                         0.0       100  \n",
       "1497                            0                         0.0        40  \n",
       "47541                           0                         0.0        52  \n",
       "72235                           0                         0.0        52  \n",
       "35145                           0                         0.0        13  \n",
       "39356                           0                         0.0        42  \n",
       "180                             0                         0.0         1  \n",
       "28775                           0                         0.0       169  \n",
       "76614                           0                         0.0       236  \n",
       "\n",
       "[10 rows x 81 columns]"
      ]
     },
     "execution_count": 6,
     "metadata": {},
     "output_type": "execute_result"
    }
   ],
   "source": [
    "df.sample(10)"
   ]
  },
  {
   "cell_type": "markdown",
   "id": "bf5f3859",
   "metadata": {},
   "source": [
    "This dataset has 81 columns. For this analysis, I have taken the following columns (variables):"
   ]
  },
  {
   "cell_type": "code",
   "execution_count": 5,
   "id": "2b45b156",
   "metadata": {},
   "outputs": [],
   "source": [
    "target_columns =  [\n",
    "    'Term', 'LoanStatus', 'BorrowerRate', 'ProsperRating (Alpha)', 'ListingCategory (numeric)', 'EmploymentStatus',\n",
    "    'DelinquenciesLast7Years', 'StatedMonthlyIncome', 'TotalProsperLoans', 'LoanOriginalAmount',\n",
    "    'LoanOriginationDate', 'Recommendations', 'Investors'\n",
    "]"
   ]
  },
  {
   "cell_type": "code",
   "execution_count": 6,
   "id": "a9a4985f",
   "metadata": {},
   "outputs": [],
   "source": [
    "target_df = df[target_columns]"
   ]
  },
  {
   "cell_type": "code",
   "execution_count": 7,
   "id": "15bf9062",
   "metadata": {},
   "outputs": [
    {
     "data": {
      "text/html": [
       "<div>\n",
       "<style scoped>\n",
       "    .dataframe tbody tr th:only-of-type {\n",
       "        vertical-align: middle;\n",
       "    }\n",
       "\n",
       "    .dataframe tbody tr th {\n",
       "        vertical-align: top;\n",
       "    }\n",
       "\n",
       "    .dataframe thead th {\n",
       "        text-align: right;\n",
       "    }\n",
       "</style>\n",
       "<table border=\"1\" class=\"dataframe\">\n",
       "  <thead>\n",
       "    <tr style=\"text-align: right;\">\n",
       "      <th></th>\n",
       "      <th>Term</th>\n",
       "      <th>LoanStatus</th>\n",
       "      <th>BorrowerRate</th>\n",
       "      <th>ProsperRating (Alpha)</th>\n",
       "      <th>ListingCategory (numeric)</th>\n",
       "      <th>EmploymentStatus</th>\n",
       "      <th>DelinquenciesLast7Years</th>\n",
       "      <th>StatedMonthlyIncome</th>\n",
       "      <th>TotalProsperLoans</th>\n",
       "      <th>LoanOriginalAmount</th>\n",
       "      <th>LoanOriginationDate</th>\n",
       "      <th>Recommendations</th>\n",
       "      <th>Investors</th>\n",
       "    </tr>\n",
       "  </thead>\n",
       "  <tbody>\n",
       "    <tr>\n",
       "      <th>10600</th>\n",
       "      <td>36</td>\n",
       "      <td>Current</td>\n",
       "      <td>0.2310</td>\n",
       "      <td>D</td>\n",
       "      <td>1</td>\n",
       "      <td>Employed</td>\n",
       "      <td>0.0</td>\n",
       "      <td>2333.333333</td>\n",
       "      <td>NaN</td>\n",
       "      <td>4000</td>\n",
       "      <td>2013-10-22 00:00:00</td>\n",
       "      <td>0</td>\n",
       "      <td>2</td>\n",
       "    </tr>\n",
       "    <tr>\n",
       "      <th>13053</th>\n",
       "      <td>36</td>\n",
       "      <td>Completed</td>\n",
       "      <td>0.0810</td>\n",
       "      <td>NaN</td>\n",
       "      <td>3</td>\n",
       "      <td>Full-time</td>\n",
       "      <td>0.0</td>\n",
       "      <td>7500.000000</td>\n",
       "      <td>NaN</td>\n",
       "      <td>2000</td>\n",
       "      <td>2008-07-18 00:00:00</td>\n",
       "      <td>0</td>\n",
       "      <td>84</td>\n",
       "    </tr>\n",
       "    <tr>\n",
       "      <th>105607</th>\n",
       "      <td>36</td>\n",
       "      <td>Chargedoff</td>\n",
       "      <td>0.3177</td>\n",
       "      <td>HR</td>\n",
       "      <td>2</td>\n",
       "      <td>Employed</td>\n",
       "      <td>0.0</td>\n",
       "      <td>1291.666667</td>\n",
       "      <td>NaN</td>\n",
       "      <td>2000</td>\n",
       "      <td>2012-01-19 00:00:00</td>\n",
       "      <td>0</td>\n",
       "      <td>1</td>\n",
       "    </tr>\n",
       "    <tr>\n",
       "      <th>109298</th>\n",
       "      <td>36</td>\n",
       "      <td>Completed</td>\n",
       "      <td>0.1902</td>\n",
       "      <td>C</td>\n",
       "      <td>2</td>\n",
       "      <td>Full-time</td>\n",
       "      <td>0.0</td>\n",
       "      <td>12958.333333</td>\n",
       "      <td>2.0</td>\n",
       "      <td>7000</td>\n",
       "      <td>2012-07-02 00:00:00</td>\n",
       "      <td>0</td>\n",
       "      <td>18</td>\n",
       "    </tr>\n",
       "    <tr>\n",
       "      <th>71588</th>\n",
       "      <td>60</td>\n",
       "      <td>Current</td>\n",
       "      <td>0.1840</td>\n",
       "      <td>C</td>\n",
       "      <td>1</td>\n",
       "      <td>Employed</td>\n",
       "      <td>0.0</td>\n",
       "      <td>11666.666667</td>\n",
       "      <td>NaN</td>\n",
       "      <td>15000</td>\n",
       "      <td>2013-09-26 00:00:00</td>\n",
       "      <td>0</td>\n",
       "      <td>1</td>\n",
       "    </tr>\n",
       "    <tr>\n",
       "      <th>87737</th>\n",
       "      <td>36</td>\n",
       "      <td>Current</td>\n",
       "      <td>0.0974</td>\n",
       "      <td>A</td>\n",
       "      <td>2</td>\n",
       "      <td>Employed</td>\n",
       "      <td>0.0</td>\n",
       "      <td>15833.333333</td>\n",
       "      <td>NaN</td>\n",
       "      <td>8000</td>\n",
       "      <td>2012-10-26 00:00:00</td>\n",
       "      <td>0</td>\n",
       "      <td>104</td>\n",
       "    </tr>\n",
       "    <tr>\n",
       "      <th>19293</th>\n",
       "      <td>36</td>\n",
       "      <td>Current</td>\n",
       "      <td>0.1599</td>\n",
       "      <td>B</td>\n",
       "      <td>1</td>\n",
       "      <td>Employed</td>\n",
       "      <td>0.0</td>\n",
       "      <td>4583.333333</td>\n",
       "      <td>1.0</td>\n",
       "      <td>4622</td>\n",
       "      <td>2012-09-05 00:00:00</td>\n",
       "      <td>0</td>\n",
       "      <td>90</td>\n",
       "    </tr>\n",
       "    <tr>\n",
       "      <th>28939</th>\n",
       "      <td>36</td>\n",
       "      <td>Defaulted</td>\n",
       "      <td>0.3234</td>\n",
       "      <td>NaN</td>\n",
       "      <td>1</td>\n",
       "      <td>Full-time</td>\n",
       "      <td>0.0</td>\n",
       "      <td>0.000000</td>\n",
       "      <td>NaN</td>\n",
       "      <td>2000</td>\n",
       "      <td>2008-05-05 00:00:00</td>\n",
       "      <td>0</td>\n",
       "      <td>7</td>\n",
       "    </tr>\n",
       "    <tr>\n",
       "      <th>45519</th>\n",
       "      <td>36</td>\n",
       "      <td>Chargedoff</td>\n",
       "      <td>0.2600</td>\n",
       "      <td>NaN</td>\n",
       "      <td>0</td>\n",
       "      <td>Not available</td>\n",
       "      <td>4.0</td>\n",
       "      <td>4333.333333</td>\n",
       "      <td>NaN</td>\n",
       "      <td>2550</td>\n",
       "      <td>2006-08-01 00:00:00</td>\n",
       "      <td>0</td>\n",
       "      <td>21</td>\n",
       "    </tr>\n",
       "    <tr>\n",
       "      <th>47237</th>\n",
       "      <td>36</td>\n",
       "      <td>Completed</td>\n",
       "      <td>0.1926</td>\n",
       "      <td>NaN</td>\n",
       "      <td>4</td>\n",
       "      <td>Full-time</td>\n",
       "      <td>9.0</td>\n",
       "      <td>3033.333333</td>\n",
       "      <td>1.0</td>\n",
       "      <td>5000</td>\n",
       "      <td>2007-12-31 00:00:00</td>\n",
       "      <td>1</td>\n",
       "      <td>44</td>\n",
       "    </tr>\n",
       "  </tbody>\n",
       "</table>\n",
       "</div>"
      ],
      "text/plain": [
       "        Term  LoanStatus  BorrowerRate ProsperRating (Alpha)  \\\n",
       "10600     36     Current        0.2310                     D   \n",
       "13053     36   Completed        0.0810                   NaN   \n",
       "105607    36  Chargedoff        0.3177                    HR   \n",
       "109298    36   Completed        0.1902                     C   \n",
       "71588     60     Current        0.1840                     C   \n",
       "87737     36     Current        0.0974                     A   \n",
       "19293     36     Current        0.1599                     B   \n",
       "28939     36   Defaulted        0.3234                   NaN   \n",
       "45519     36  Chargedoff        0.2600                   NaN   \n",
       "47237     36   Completed        0.1926                   NaN   \n",
       "\n",
       "        ListingCategory (numeric) EmploymentStatus  DelinquenciesLast7Years  \\\n",
       "10600                           1         Employed                      0.0   \n",
       "13053                           3        Full-time                      0.0   \n",
       "105607                          2         Employed                      0.0   \n",
       "109298                          2        Full-time                      0.0   \n",
       "71588                           1         Employed                      0.0   \n",
       "87737                           2         Employed                      0.0   \n",
       "19293                           1         Employed                      0.0   \n",
       "28939                           1        Full-time                      0.0   \n",
       "45519                           0    Not available                      4.0   \n",
       "47237                           4        Full-time                      9.0   \n",
       "\n",
       "        StatedMonthlyIncome  TotalProsperLoans  LoanOriginalAmount  \\\n",
       "10600           2333.333333                NaN                4000   \n",
       "13053           7500.000000                NaN                2000   \n",
       "105607          1291.666667                NaN                2000   \n",
       "109298         12958.333333                2.0                7000   \n",
       "71588          11666.666667                NaN               15000   \n",
       "87737          15833.333333                NaN                8000   \n",
       "19293           4583.333333                1.0                4622   \n",
       "28939              0.000000                NaN                2000   \n",
       "45519           4333.333333                NaN                2550   \n",
       "47237           3033.333333                1.0                5000   \n",
       "\n",
       "        LoanOriginationDate  Recommendations  Investors  \n",
       "10600   2013-10-22 00:00:00                0          2  \n",
       "13053   2008-07-18 00:00:00                0         84  \n",
       "105607  2012-01-19 00:00:00                0          1  \n",
       "109298  2012-07-02 00:00:00                0         18  \n",
       "71588   2013-09-26 00:00:00                0          1  \n",
       "87737   2012-10-26 00:00:00                0        104  \n",
       "19293   2012-09-05 00:00:00                0         90  \n",
       "28939   2008-05-05 00:00:00                0          7  \n",
       "45519   2006-08-01 00:00:00                0         21  \n",
       "47237   2007-12-31 00:00:00                1         44  "
      ]
     },
     "execution_count": 7,
     "metadata": {},
     "output_type": "execute_result"
    }
   ],
   "source": [
    "target_df.sample(10)"
   ]
  },
  {
   "cell_type": "markdown",
   "id": "bdf3bcb9",
   "metadata": {},
   "source": [
    "As Prosper has only been using its own Prosper Rating from 2009, we have many missing values in the Prosper Rating column. Let's remove the missing values:"
   ]
  },
  {
   "cell_type": "code",
   "execution_count": 8,
   "id": "1fdfe463",
   "metadata": {},
   "outputs": [],
   "source": [
    "target_df = target_df.dropna(subset=['ProsperRating (Alpha)']).reset_index()\n"
   ]
  },
  {
   "cell_type": "markdown",
   "id": "0e8ccf71",
   "metadata": {},
   "source": [
    "Converting Loan Origination Date to datetime datatype:\n",
    "\n"
   ]
  },
  {
   "cell_type": "code",
   "execution_count": 9,
   "id": "0372aa55",
   "metadata": {},
   "outputs": [],
   "source": [
    "target_df['LoanOriginationDate'] = pd.to_datetime(target_df['LoanOriginationDate'])\n"
   ]
  },
  {
   "cell_type": "code",
   "execution_count": 10,
   "id": "e2e726f5",
   "metadata": {},
   "outputs": [],
   "source": [
    "target_df['TotalProsperLoans'] = target_df['TotalProsperLoans'].fillna(0)\n"
   ]
  },
  {
   "cell_type": "code",
   "execution_count": 11,
   "id": "715db681",
   "metadata": {},
   "outputs": [
    {
     "name": "stdout",
     "output_type": "stream",
     "text": [
      "<class 'pandas.core.frame.DataFrame'>\n",
      "RangeIndex: 84853 entries, 0 to 84852\n",
      "Data columns (total 14 columns):\n",
      " #   Column                     Non-Null Count  Dtype         \n",
      "---  ------                     --------------  -----         \n",
      " 0   index                      84853 non-null  int64         \n",
      " 1   Term                       84853 non-null  int64         \n",
      " 2   LoanStatus                 84853 non-null  object        \n",
      " 3   BorrowerRate               84853 non-null  float64       \n",
      " 4   ProsperRating (Alpha)      84853 non-null  object        \n",
      " 5   ListingCategory (numeric)  84853 non-null  int64         \n",
      " 6   EmploymentStatus           84853 non-null  object        \n",
      " 7   DelinquenciesLast7Years    84853 non-null  float64       \n",
      " 8   StatedMonthlyIncome        84853 non-null  float64       \n",
      " 9   TotalProsperLoans          84853 non-null  float64       \n",
      " 10  LoanOriginalAmount         84853 non-null  int64         \n",
      " 11  LoanOriginationDate        84853 non-null  datetime64[ns]\n",
      " 12  Recommendations            84853 non-null  int64         \n",
      " 13  Investors                  84853 non-null  int64         \n",
      "dtypes: datetime64[ns](1), float64(4), int64(6), object(3)\n",
      "memory usage: 9.1+ MB\n"
     ]
    }
   ],
   "source": [
    "target_df.info()\n"
   ]
  },
  {
   "cell_type": "markdown",
   "id": "4e537969",
   "metadata": {},
   "source": [
    "### What are the main characteristics of interest in your dataset?"
   ]
  },
  {
   "cell_type": "markdown",
   "id": "f83c1599",
   "metadata": {},
   "source": [
    "I am trying to understand which characteristics can be used to predict default. I would also like to check what are the main factors related to prosper credit rating."
   ]
  },
  {
   "cell_type": "markdown",
   "id": "afec8902",
   "metadata": {},
   "source": [
    "### What characteristics of the dataset do you think will help you to investigate the characteristic(s) you are interested in?"
   ]
  },
  {
   "cell_type": "markdown",
   "id": "868945ba",
   "metadata": {},
   "source": [
    "I would expect the borrower's Prosper rating to have the greatest impact on the chances of default. I also expect the loan amount to play a major role and perhaps the credit category. The Prosper rating will depend on declared income and employment status."
   ]
  },
  {
   "cell_type": "markdown",
   "id": "2c402ed4",
   "metadata": {},
   "source": [
    "### Univariate Exploration\n"
   ]
  },
  {
   "cell_type": "markdown",
   "id": "5be5a844",
   "metadata": {},
   "source": [
    "#### Loan status\n"
   ]
  },
  {
   "cell_type": "code",
   "execution_count": 13,
   "id": "d87c0cf3",
   "metadata": {},
   "outputs": [
    {
     "data": {
      "text/plain": [
       "Text(0.5, 1.015, 'Loan Status Vs count')"
      ]
     },
     "execution_count": 13,
     "metadata": {},
     "output_type": "execute_result"
    },
    {
     "data": {
      "image/png": "[encoded data removed]",
      "text/plain": [
       "<Figure size 432x288 with 1 Axes>"
      ]
     },
     "metadata": {
      "needs_background": "light"
     },
     "output_type": "display_data"
    }
   ],
   "source": [
    "# setting color\n",
    "base_color = sns.color_palette(\"husl\", 9)[4]\n",
    "plt.xticks(rotation=90)\n",
    "sns.countplot(data = target_df, x = 'LoanStatus', color = base_color);\n",
    "plt.title('Loan Status Vs count', fontsize=20, y=1.015)\n",
    "# pl.suptitle(\"Setting color\")\n",
    "\n"
   ]
  },
  {
   "cell_type": "markdown",
   "id": "fa64ecaa",
   "metadata": {},
   "source": [
    "First Observation:\n",
    "\n",
    "1. Most of the loans in the data set are actually current loans.\n",
    "2. Past due loans are split in several groups based on the length of payment delay.\n",
    "3. Other big part is completed loans, defaulted loans compromise a minority, however chargedoff loans also comporomise a substanial amount."
   ]
  },
  {
   "cell_type": "markdown",
   "id": "f6e3cdf5",
   "metadata": {},
   "source": [
    "### Employment Status\n"
   ]
  },
  {
   "cell_type": "code",
   "execution_count": 14,
   "id": "ff770b68",
   "metadata": {},
   "outputs": [
    {
     "data": {
      "image/png": "[encoded data removed]",
      "text/plain": [
       "<Figure size 432x288 with 1 Axes>"
      ]
     },
     "metadata": {
      "needs_background": "light"
     },
     "output_type": "display_data"
    }
   ],
   "source": [
    "sns.countplot(data = target_df, x = 'EmploymentStatus', color = base_color);\n",
    "plt.xticks(rotation = 90);\n",
    "plt.title('Employment stat Vs count', fontsize=20, y=1.015)\n",
    "title='Employment Status'"
   ]
  },
  {
   "cell_type": "markdown",
   "id": "ebbf997a",
   "metadata": {},
   "source": [
    "Second Observation:\n",
    "\n",
    "1. The majority of borrowers are employed and all other categories as small part of borrowers.\n",
    "2. In small Group full time has highest, after that self empolyed are there and so on."
   ]
  },
  {
   "cell_type": "markdown",
   "id": "8dd60081",
   "metadata": {},
   "source": [
    "### Stated Monthly Income\n"
   ]
  },
  {
   "cell_type": "code",
   "execution_count": 15,
   "id": "00d1a81a",
   "metadata": {},
   "outputs": [
    {
     "data": {
      "text/plain": [
       "Text(0.5, 1.015, 'Stated Monthly Income')"
      ]
     },
     "execution_count": 15,
     "metadata": {},
     "output_type": "execute_result"
    },
    {
     "data": {
      "image/png": "[encoded data removed]",
      "text/plain": [
       "<Figure size 432x288 with 1 Axes>"
      ]
     },
     "metadata": {
      "needs_background": "light"
     },
     "output_type": "display_data"
    }
   ],
   "source": [
    "plt.hist(data=target_df, x='StatedMonthlyIncome', bins=1000);\n",
    "plt.xlabel(\"Stated Monthly Income\")\n",
    "plt.title('Stated Monthly Income', fontsize=20, y=1.015)\n",
    "\n",
    "\n",
    "# title='Monthly Income'"
   ]
  },
  {
   "cell_type": "markdown",
   "id": "da9588e1",
   "metadata": {},
   "source": [
    "N.B: Distribution of stated monthly income is highly skewed to the right. so, we have to check how many outliers are there"
   ]
  },
  {
   "cell_type": "code",
   "execution_count": 17,
   "id": "e2534a01",
   "metadata": {},
   "outputs": [
    {
     "data": {
      "text/plain": [
       "245"
      ]
     },
     "execution_count": 17,
     "metadata": {},
     "output_type": "execute_result"
    }
   ],
   "source": [
    "income_std = target_df['StatedMonthlyIncome'].std()\n",
    "income_mean = target_df['StatedMonthlyIncome'].mean()\n",
    "boundary = income_mean + income_std * 3\n",
    "len(target_df[target_df['StatedMonthlyIncome'] >= boundary])"
   ]
  },
  {
   "cell_type": "markdown",
   "id": "71426295",
   "metadata": {},
   "source": [
    "#### After magnifying the chart, the result is as follows"
   ]
  },
  {
   "cell_type": "code",
   "execution_count": 18,
   "id": "8f7e0e65",
   "metadata": {},
   "outputs": [
    {
     "data": {
      "text/plain": [
       "Text(0.5, 0, 'Stated Monthly Income')"
      ]
     },
     "execution_count": 18,
     "metadata": {},
     "output_type": "execute_result"
    },
    {
     "data": {
      "image/png": "[encoded data removed]",
      "text/plain": [
       "<Figure size 432x288 with 1 Axes>"
      ]
     },
     "metadata": {
      "needs_background": "light"
     },
     "output_type": "display_data"
    }
   ],
   "source": [
    "plt.hist(data=target_df, x='StatedMonthlyIncome', bins=1000);\n",
    "plt.xlim(0, boundary);\n",
    "plt.title('Stated Monthly Income', fontsize=20, y=1.015)\n",
    "plt.xlabel(\"Stated Monthly Income\")\n",
    "\n",
    "# title='Stated Monthly Income'"
   ]
  },
  {
   "cell_type": "markdown",
   "id": "1340383e",
   "metadata": {},
   "source": [
    "Third Observation\n",
    "\n",
    "With a boundary of mean and 3 times standard deviations distribution of monthly income still has noticeable right skew but now we can see that mode is about 5000."
   ]
  },
  {
   "cell_type": "markdown",
   "id": "918e076f",
   "metadata": {},
   "source": [
    "#### Discussing the distribution(s) of variable(s) of interest. Were there any unusual points? Need to perform any transformations?"
   ]
  },
  {
   "cell_type": "markdown",
   "id": "69edcbd8",
   "metadata": {},
   "source": [
    "The distribution of declared monthly income is very uneven: with many outliers and a very wide range, but it remains well oriented. The majority of borrowers are employed and all other categories represent only a small proportion of borrowers. Most of the loans in the data set are in fact outstanding loans."
   ]
  },
  {
   "cell_type": "markdown",
   "id": "a55d3d87",
   "metadata": {},
   "source": [
    "#### in the features  investigated, were there any unusual distributions? Did you perform any operations on the data to tidy, adjust, or change the form of the data? If so, why did you do this?"
   ]
  },
  {
   "cell_type": "markdown",
   "id": "a9bd2c6f",
   "metadata": {},
   "source": [
    "The majority of loans are actually current loans. Since our main goal is to define driving factors of outcome of loan we are not interested in any current loans."
   ]
  },
  {
   "cell_type": "markdown",
   "id": "957a3fb7",
   "metadata": {},
   "source": [
    "### Bivariate Exploration\n"
   ]
  },
  {
   "cell_type": "code",
   "execution_count": 19,
   "id": "f7e7649b",
   "metadata": {},
   "outputs": [
    {
     "data": {
      "text/plain": [
       "Completed    19664\n",
       "Defaulted     6341\n",
       "Name: LoanStatus, dtype: int64"
      ]
     },
     "execution_count": 19,
     "metadata": {},
     "output_type": "execute_result"
    }
   ],
   "source": [
    "#Adjusting the form of data\n",
    "\n",
    "condition = (target_df['LoanStatus'] == 'Completed') | (target_df['LoanStatus'] == 'Defaulted') |\\\n",
    "                  (target_df['LoanStatus'] == 'Chargedoff')\n",
    "target_df = target_df[condition]\n",
    "\n",
    "def change_to_defaulted(row):\n",
    "    if row['LoanStatus'] == 'Chargedoff':\n",
    "        return 'Defaulted'\n",
    "    else:\n",
    "        return row['LoanStatus']\n",
    "    \n",
    "target_df['LoanStatus'] = target_df.apply(change_to_defaulted, axis=1)\n",
    "target_df['LoanStatus'].value_counts()"
   ]
  },
  {
   "cell_type": "markdown",
   "id": "d7e86da5",
   "metadata": {},
   "source": [
    "#### After transforming dataset we have 19664 completed loans and 6341 defaulted."
   ]
  },
  {
   "cell_type": "code",
   "execution_count": 20,
   "id": "285aa2f5",
   "metadata": {},
   "outputs": [
    {
     "data": {
      "text/plain": [
       "Debt Consolidation    12740\n",
       "Other                  7083\n",
       "Home Improvement       2612\n",
       "Business               2366\n",
       "Auto                   1204\n",
       "Name: ListingCategory (numeric), dtype: int64"
      ]
     },
     "execution_count": 20,
     "metadata": {},
     "output_type": "execute_result"
    }
   ],
   "source": [
    "categories = {1: 'Debt Consolidation', 2: 'Home Improvement', 3: 'Business', 6: 'Auto', 7: 'Other'}\n",
    "def reduce_categorie(row):\n",
    "    loan_category = row['ListingCategory (numeric)']\n",
    "    if  loan_category in categories:\n",
    "        return categories[loan_category]\n",
    "    else:\n",
    "        return categories[7]\n",
    "    \n",
    "target_df['ListingCategory (numeric)'] = target_df.apply(reduce_categorie, axis=1)\n",
    "target_df['ListingCategory (numeric)'].value_counts()"
   ]
  },
  {
   "cell_type": "markdown",
   "id": "fb10afce",
   "metadata": {},
   "source": [
    "Variable Listing Category is set up as numeric and most of the values have very low frequency, for the easier visualization so we have to change it to categorical and reduce the number of categories."
   ]
  },
  {
   "cell_type": "markdown",
   "id": "94f3b295",
   "metadata": {},
   "source": [
    "#### Status and Prosper Rating:"
   ]
  },
  {
   "cell_type": "code",
   "execution_count": 22,
   "id": "c7869c61",
   "metadata": {},
   "outputs": [
    {
     "data": {
      "text/plain": [
       "Text(0.5, 1.015, 'Status and Prosper Rating')"
      ]
     },
     "execution_count": 22,
     "metadata": {},
     "output_type": "execute_result"
    },
    {
     "data": {
      "image/png": "[encoded data removed]",
      "text/plain": [
       "<Figure size 432x288 with 1 Axes>"
      ]
     },
     "metadata": {
      "needs_background": "light"
     },
     "output_type": "display_data"
    }
   ],
   "source": [
    "sns.countplot(data = target_df, x = 'LoanStatus', hue = 'ProsperRating (Alpha)', palette = 'coolwarm')\n",
    "plt.title('Status and Prosper Rating', fontsize=20, y=1.015)\n",
    "\n"
   ]
  },
  {
   "cell_type": "markdown",
   "id": "58a1e259",
   "metadata": {},
   "source": [
    "First Observation:\n",
    "\n",
    "1. The most frequent rating among defaulted loans is actually D.\n",
    "2. And the most frequent rating among Completed is alsoDand second highest is A and so on."
   ]
  },
  {
   "cell_type": "markdown",
   "id": "abc7490d",
   "metadata": {},
   "source": [
    "#### Credit Start with Listing Category:"
   ]
  },
  {
   "cell_type": "code",
   "execution_count": 23,
   "id": "b58137ad",
   "metadata": {},
   "outputs": [
    {
     "data": {
      "text/plain": [
       "Text(0.5, 1.015, 'Credit Start with Listing Category')"
      ]
     },
     "execution_count": 23,
     "metadata": {},
     "output_type": "execute_result"
    },
    {
     "data": {
      "image/png": "[encoded data removed]",
      "text/plain": [
       "<Figure size 432x288 with 1 Axes>"
      ]
     },
     "metadata": {
      "needs_background": "light"
     },
     "output_type": "display_data"
    }
   ],
   "source": [
    "sns.countplot(data = target_df, x = 'LoanStatus', hue = 'ListingCategory (numeric)', palette = 'coolwarm');\n",
    "plt.title('Credit Start with Listing Category', fontsize=20, y=1.015)\n"
   ]
  },
  {
   "cell_type": "markdown",
   "id": "43447358",
   "metadata": {},
   "source": [
    "Second Observation\n",
    "\n",
    "In both of the Graphs the debt Consolidation have most frequency among all of them"
   ]
  },
  {
   "cell_type": "markdown",
   "id": "11188759",
   "metadata": {},
   "source": [
    "### Loan Status and Loan Amount\n"
   ]
  },
  {
   "cell_type": "code",
   "execution_count": 24,
   "id": "4c87a734",
   "metadata": {},
   "outputs": [
    {
     "data": {
      "text/plain": [
       "Text(0.5, 1.015, 'Loan Status and Loan Amount')"
      ]
     },
     "execution_count": 24,
     "metadata": {},
     "output_type": "execute_result"
    },
    {
     "data": {
      "image/png": "[encoded data removed]",
      "text/plain": [
       "<Figure size 432x288 with 1 Axes>"
      ]
     },
     "metadata": {
      "needs_background": "light"
     },
     "output_type": "display_data"
    }
   ],
   "source": [
    "sns.boxplot(data = target_df, x = 'LoanStatus', y = 'LoanOriginalAmount', color = base_color);\n",
    "plt.title('Loan Status and Loan Amount', fontsize=20, y=1.015)"
   ]
  },
  {
   "cell_type": "markdown",
   "id": "938c74a4",
   "metadata": {},
   "source": [
    "Third Observation\n",
    "\n",
    "As from Above Graph we can state that defaulted credits tend to be smaller than completed credits onces.\n"
   ]
  },
  {
   "cell_type": "markdown",
   "id": "59f4fafc",
   "metadata": {},
   "source": [
    "### Prosper Rating and Employment Status\n"
   ]
  },
  {
   "cell_type": "code",
   "execution_count": 25,
   "id": "37ee9a91",
   "metadata": {},
   "outputs": [
    {
     "data": {
      "text/plain": [
       "Text(0.5, 1.015, 'Prosper Rating and Employment Status')"
      ]
     },
     "execution_count": 25,
     "metadata": {},
     "output_type": "execute_result"
    },
    {
     "data": {
      "image/png": "[encoded data removed]",
      "text/plain": [
       "<Figure size 864x720 with 1 Axes>"
      ]
     },
     "metadata": {
      "needs_background": "light"
     },
     "output_type": "display_data"
    }
   ],
   "source": [
    "plt.figure(figsize = [12, 10])\n",
    "sns.countplot(data = target_df, x = 'ProsperRating (Alpha)', hue = 'EmploymentStatus', palette = 'Blues');\n",
    "plt.title('Prosper Rating and Employment Status', fontsize=20, y=1.015)"
   ]
  },
  {
   "cell_type": "markdown",
   "id": "79bd3427",
   "metadata": {},
   "source": [
    "Observation\n",
    "\n",
    "In both of the Graphs the debt Consolidation have most frequency among all of them.\n"
   ]
  },
  {
   "cell_type": "markdown",
   "id": "e6c15fee",
   "metadata": {},
   "source": [
    "### Loan Status and Loan Amount\n"
   ]
  },
  {
   "cell_type": "code",
   "execution_count": 26,
   "id": "781f5f95",
   "metadata": {},
   "outputs": [
    {
     "data": {
      "text/plain": [
       "Text(0.5, 1.015, 'Loan Status and Loan Amount')"
      ]
     },
     "execution_count": 26,
     "metadata": {},
     "output_type": "execute_result"
    },
    {
     "data": {
      "image/png": "[encoded data removed]",
      "text/plain": [
       "<Figure size 432x288 with 1 Axes>"
      ]
     },
     "metadata": {
      "needs_background": "light"
     },
     "output_type": "display_data"
    }
   ],
   "source": [
    "sns.boxplot(data = target_df, x = 'LoanStatus', y = 'LoanOriginalAmount', color = base_color);\n",
    "plt.title('Loan Status and Loan Amount', fontsize=20, y=1.015)\n"
   ]
  },
  {
   "cell_type": "markdown",
   "id": "2e73d05f",
   "metadata": {},
   "source": [
    "Observation\n",
    "\n",
    "From Above Graph we can state that defaulted credits tend to be smaller than completed credits onces.\n"
   ]
  },
  {
   "cell_type": "markdown",
   "id": "fa19b8de",
   "metadata": {},
   "source": [
    "### Prosper Rating and Employment Status\n"
   ]
  },
  {
   "cell_type": "code",
   "execution_count": 27,
   "id": "8bf2a0c3",
   "metadata": {},
   "outputs": [
    {
     "data": {
      "text/plain": [
       "Text(0.5, 1.015, 'Prosper Rating and Employment Status')"
      ]
     },
     "execution_count": 27,
     "metadata": {},
     "output_type": "execute_result"
    },
    {
     "data": {
      "image/png": "[encoded data removed]",
      "text/plain": [
       "<Figure size 864x720 with 1 Axes>"
      ]
     },
     "metadata": {
      "needs_background": "light"
     },
     "output_type": "display_data"
    }
   ],
   "source": [
    "plt.figure(figsize = [12, 10])\n",
    "sns.countplot(data = target_df, x = 'ProsperRating (Alpha)', hue = 'EmploymentStatus',color = base_color);\n",
    "plt.title('Prosper Rating and Employment Status', fontsize=20, y=1.015)"
   ]
  },
  {
   "cell_type": "markdown",
   "id": "2d2ecec0",
   "metadata": {},
   "source": [
    "Observation\n",
    "\n",
    "Lower ratings seem to have greater proportions of individuals with employment status Not Employed, Self-employed, Retired and Part-Time."
   ]
  },
  {
   "cell_type": "markdown",
   "id": "00e19315",
   "metadata": {},
   "source": [
    "#### Talk about some of the relationships you observed in this part of the investigation. How did the feature(s) of interest vary with other features in the dataset?"
   ]
  },
  {
   "cell_type": "markdown",
   "id": "34ffa4d4",
   "metadata": {},
   "source": [
    "In Loan status vs Loan amount defaulted credits tend to be smaller than completed credits onces. Employment status of individuals with lower ratings tends to be 'Not employed', 'Self-employed', 'Retired' or 'Part-time'."
   ]
  },
  {
   "cell_type": "markdown",
   "id": "b8b41e23",
   "metadata": {},
   "source": [
    "#### Did you observe any interesting relationships between the other features (not the main feature(s) of interest)?"
   ]
  },
  {
   "cell_type": "markdown",
   "id": "b1cbfd11",
   "metadata": {},
   "source": [
    "Prosper rating D is the most frequent rating among defaulted credits."
   ]
  },
  {
   "cell_type": "markdown",
   "id": "5a6db1e0",
   "metadata": {},
   "source": [
    "### Multivariate Exploration\n"
   ]
  },
  {
   "cell_type": "markdown",
   "id": "cead7386",
   "metadata": {},
   "source": [
    "### Rating, Loan Amount and Loan Status\n"
   ]
  },
  {
   "cell_type": "code",
   "execution_count": 41,
   "id": "2a136179",
   "metadata": {},
   "outputs": [
    {
     "data": {
      "text/plain": [
       "Text(0.5, 1.015, 'Rating, Loan Amount and Loan Status')"
      ]
     },
     "execution_count": 41,
     "metadata": {},
     "output_type": "execute_result"
    },
    {
     "data": {
      "image/png": "[encoded data removed]",
      "text/plain": [
       "<Figure size 864x864 with 1 Axes>"
      ]
     },
     "metadata": {},
     "output_type": "display_data"
    }
   ],
   "source": [
    "plt.figure(figsize = [12, 12])\n",
    "#reference: https://seaborn.pydata.org/generated/seaborn.boxplot.html###\n",
    "sns.set(style=\"darkgrid\")\n",
    "sns.boxplot(data=target_df, x=\"ProsperRating (Alpha)\", y=\"LoanOriginalAmount\", hue=\"LoanStatus\", palette=\"Blues\")\n",
    "plt.title('Rating, Loan Amount and Loan Status', fontsize=20, y=1.015)\n"
   ]
  },
  {
   "cell_type": "markdown",
   "id": "cb1c7c2e",
   "metadata": {},
   "source": [
    "Observation\n",
    "\n",
    "1. Except for the lowest ratings defaulted credits tend to be larger than completed.\n",
    "2. Most of the defaulted credits comes from individuals with low Prosper rating."
   ]
  },
  {
   "cell_type": "markdown",
   "id": "f9283ed2",
   "metadata": {},
   "source": [
    "#### Relationships between Credit category, Credit rating and outcome of Credit."
   ]
  },
  {
   "cell_type": "code",
   "execution_count": 34,
   "id": "20003681",
   "metadata": {},
   "outputs": [
    {
     "data": {
      "image/png": "[encoded data removed]",
      "text/plain": [
       "<Figure size 1170.12x720 with 5 Axes>"
      ]
     },
     "metadata": {
      "needs_background": "light"
     },
     "output_type": "display_data"
    }
   ],
   "source": [
    "sns.catplot(x = 'ProsperRating (Alpha)', hue = 'LoanStatus', col = 'ListingCategory (numeric)',\n",
    "              data = target_df, kind = 'count', color = base_color, col_wrap = 3);"
   ]
  },
  {
   "cell_type": "markdown",
   "id": "ceea457a",
   "metadata": {},
   "source": [
    "Observation\n",
    "\n",
    "1. There are 5 graphs in the second one has much up and downs in it other than all of them.\n",
    "2. There is no substantial difference for default rates in different categories broken up by ratings."
   ]
  },
  {
   "cell_type": "markdown",
   "id": "589226f6",
   "metadata": {},
   "source": [
    "#### Amount, Listing Category Loan and Loan Status Interact"
   ]
  },
  {
   "cell_type": "code",
   "execution_count": 50,
   "id": "ef7a6de0",
   "metadata": {},
   "outputs": [
    {
     "data": {
      "text/plain": [
       "Text(0.5, 1.015, 'Amount, Listing Category Loan and Loan Status Interact')"
      ]
     },
     "execution_count": 50,
     "metadata": {},
     "output_type": "execute_result"
    },
    {
     "data": {
      "image/png": "[encoded data removed]",
      "text/plain": [
       "<Figure size 720x864 with 1 Axes>"
      ]
     },
     "metadata": {},
     "output_type": "display_data"
    }
   ],
   "source": [
    "plt.figure(figsize = [10, 12])\n",
    "sns.set(style=\"darkgrid\")\n",
    "sns.violinplot(data=target_df, x='ListingCategory (numeric)', y='LoanOriginalAmount', hue='LoanStatus',color = base_color);\n",
    "plt.title('Amount, Listing Category Loan and Loan Status Interact', fontsize=20, y=1.015)"
   ]
  },
  {
   "cell_type": "markdown",
   "id": "7f64b656",
   "metadata": {},
   "source": [
    "Observation\n",
    "\n",
    "1. Except for Auto, Business and Home Improvemrnt dont have nearly equal mean amoong all of them.\n",
    "2. Business category tend to have larger amount."
   ]
  },
  {
   "cell_type": "markdown",
   "id": "39f80986",
   "metadata": {},
   "source": [
    "#### Talk about some of the relationships you observed in this part of the investigation. Were there features that strengthened each other in terms of looking at your feature(s) of interest?"
   ]
  },
  {
   "cell_type": "markdown",
   "id": "967b4d11",
   "metadata": {},
   "source": [
    "Our initial assumptions were strengthened. Most of the defaulted credits comes from individuals with low Prosper rating and Business category tend to have larger amount."
   ]
  },
  {
   "cell_type": "markdown",
   "id": "40d8d6dd",
   "metadata": {},
   "source": [
    "#### Were there any interesting or surprising interactions between features?"
   ]
  },
  {
   "cell_type": "markdown",
   "id": "c1645e92",
   "metadata": {},
   "source": [
    "Interesting find was that defaulted credits for individuals with high Prosper ratings tend to be larger than completed credits."
   ]
  },
  {
   "cell_type": "code",
   "execution_count": null,
   "id": "c41d1fcc",
   "metadata": {},
   "outputs": [],
   "source": []
  }
 ],
 "metadata": {
  "kernelspec": {
   "display_name": "Python 3 (ipykernel)",
   "language": "python",
   "name": "python3"
  },
  "language_info": {
   "codemirror_mode": {
    "name": "ipython",
    "version": 3
   },
   "file_extension": ".py",
   "mimetype": "text/x-python",
   "name": "python",
   "nbconvert_exporter": "python",
   "pygments_lexer": "ipython3",
   "version": "3.9.7"
  }
 },
 "nbformat": 4,
 "nbformat_minor": 5
}
